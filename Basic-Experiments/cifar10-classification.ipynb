version https://git-lfs.github.com/spec/v1
oid sha256:381f29f21200638030c6382c9141e55c30b09e7f2ea2c530c346deae2e95d8d2
size 930011
