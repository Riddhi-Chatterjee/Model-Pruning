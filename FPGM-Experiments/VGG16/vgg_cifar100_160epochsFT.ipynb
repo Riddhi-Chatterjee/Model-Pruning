version https://git-lfs.github.com/spec/v1
oid sha256:da07dac4311279e4e0ed614a1882693ce96b5f81486b86893ba1cd46be169c76
size 28579404
